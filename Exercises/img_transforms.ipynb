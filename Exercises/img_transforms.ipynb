{
 "cells": [
  {
   "attachments": {},
   "cell_type": "markdown",
   "metadata": {},
   "source": [
    "# Image Transformations"
   ]
  },
  {
   "cell_type": "code",
   "execution_count": 21,
   "metadata": {},
   "outputs": [],
   "source": [
    "import cv2\n",
    "import numpy as np\n",
    "import matplotlib.pyplot as plt"
   ]
  },
  {
   "cell_type": "code",
   "execution_count": 22,
   "metadata": {},
   "outputs": [],
   "source": [
    "def translate(img, x, y):\n",
    "    '''\n",
    "    Translates an image (img) along the x and y axes by (x, y) pixels.\n",
    "    Returns the translated image.\n",
    "    \n",
    "    Parameters:\n",
    "    img: image to be translated\n",
    "    x: number of pixels to translate the image along the x axis\n",
    "    y: number of pixels to translate the image along the y axis\n",
    "    '''\n",
    "    M = np.float32([[1, 0, x],\n",
    "                     [0, 1, y]])\n",
    "    translated = cv2.warpAffine(img, M, (img.shape[1], img.shape[0]))\n",
    "    return translated"
   ]
  },
  {
   "cell_type": "code",
   "execution_count": 23,
   "metadata": {},
   "outputs": [],
   "source": [
    "def rotate(img, theta):\n",
    "    '''\n",
    "    Rotates an image (img) by an angle (theta) in degrees.\n",
    "    Returns the rotated image.\n",
    "    \n",
    "    Parameters:\n",
    "    img: image to be rotated\n",
    "    theta: angle in degrees to rotate the image\n",
    "    '''\n",
    "    M = cv2.getRotationMatrix2D((img.shape[1] // 2, img.shape[0] // 2), theta, 1.0)\n",
    "    rotated = cv2.warpAffine(img, M, (img.shape[1], img.shape[0]))\n",
    "    return rotated"
   ]
  },
  {
   "cell_type": "code",
   "execution_count": 24,
   "metadata": {},
   "outputs": [],
   "source": [
    "def scale(img, scale):\n",
    "    '''\n",
    "    Scales an image (img) by a factor of (scale).\n",
    "    Returns the scaled image.\n",
    "    \n",
    "    Parameters:\n",
    "    img: image to be scaled\n",
    "    scale: factor to scale the image by\n",
    "    '''\n",
    "    M = np.float32([[scale, 0, 0],\n",
    "                    [0, scale, 0]])\n",
    "    scaled = cv2.warpAffine(img, M, (img.shape[1], img.shape[0]))\n",
    "    return scaled"
   ]
  },
  {
   "cell_type": "code",
   "execution_count": 25,
   "metadata": {},
   "outputs": [],
   "source": [
    "def shear(img, x, y):\n",
    "    '''\n",
    "    Shears an image (img) by a factor to its length (y) and width (w).\n",
    "    Returns the sheared image.\n",
    "    \n",
    "    Parameters:\n",
    "    img: image to be sheared\n",
    "    x: factor to shear the image along the x axis\n",
    "    y: factor to shear the image along the y axis\n",
    "    '''\n",
    "    M = np.float32([[1, x, 0],\n",
    "                    [y, 1, 0]])\n",
    "    sheared = cv2.warpAffine(img, M, (img.shape[1], img.shape[0]))\n",
    "    return sheared"
   ]
  },
  {
   "cell_type": "code",
   "execution_count": 26,
   "metadata": {},
   "outputs": [],
   "source": [
    "def reflect(img, axis):\n",
    "    '''\n",
    "    Reflects an image (img) along an axis (axis).\n",
    "    Returns the reflected image.\n",
    "    \n",
    "    Parameters:\n",
    "    img: image to be reflected\n",
    "    axis: axis to reflect the image along\n",
    "    '''\n",
    "    if 'x' in axis.lower():\n",
    "        reflected = cv2.flip(img, 1)\n",
    "    if 'y' in axis.lower():\n",
    "        reflected = cv2.flip(img, 0)\n",
    "    return reflected"
   ]
  },
  {
   "cell_type": "code",
   "execution_count": 27,
   "metadata": {},
   "outputs": [],
   "source": [
    "def visualize(img):\n",
    "    plt.imshow(img)\n",
    "    plt.axis('off')\n",
    "    plt.show()"
   ]
  },
  {
   "cell_type": "code",
   "execution_count": 28,
   "metadata": {},
   "outputs": [],
   "source": [
    "def multiple_image_load():\n",
    "    '''\n",
    "    Loads multiple images from a list of image paths (img_paths).\n",
    "    Returns a list of images.\n",
    "    \n",
    "    Parameters:\n",
    "    img_paths: list of image paths\n",
    "    '''\n",
    "    \n",
    "    images, img_paths = [], []\n",
    "    c = int(input('Enter number of files: '))\n",
    "    for i in range(c):\n",
    "        img_paths.append(input(f'Enter image path {i + 1}/{c} : '))\n",
    "    for path in img_paths:\n",
    "        images.append(cv2.cvtColor(cv2.imread(path), cv2.COLOR_BGR2RGB))\n",
    "    return images"
   ]
  },
  {
   "cell_type": "code",
   "execution_count": 29,
   "metadata": {},
   "outputs": [],
   "source": [
    "def images_transform(*images):\n",
    "    '''\n",
    "    Transforms multiple images (images) using the functions defined above.\n",
    "    Prompts the user to enter the parameters for each transformation.\n",
    "    \n",
    "    Parameters:\n",
    "    images: list of images to be transformed\n",
    "    '''\n",
    "\n",
    "    transformations = input('Enter transformations to apply to images: ')\n",
    "    \n",
    "    for img in images:\n",
    "        print('Original Image')\n",
    "        visualize(img)\n",
    "        if 'translate' in transformations.lower():\n",
    "            print('Translated Image')\n",
    "            visualize(translate(img, int(input('Enter x translation: ')), int(input('Enter y translation: '))))\n",
    "        if 'rotate' in transformations.lower():\n",
    "            print('Rotated Image')\n",
    "            visualize(rotate(img, float(input('Enter rotation angle: '))))\n",
    "        if 'scale' in transformations.lower():\n",
    "            print('Scaled Image')\n",
    "            visualize(scale(img, float(input('Enter scale factor: '))))\n",
    "        if 'shear' in transformations.lower():\n",
    "            print('Sheared Image')\n",
    "            visualize(shear(img, float(input('Enter x shear factor: ')), float(input('Enter y shear factor: '))))\n",
    "        if 'reflect' in transformations.lower():\n",
    "            print('Reflected Image')\n",
    "            visualize(reflect(img, input('Enter axis to reflect image along: ')))"
   ]
  },
  {
   "cell_type": "code",
   "execution_count": 30,
   "metadata": {},
   "outputs": [
    {
     "ename": "error",
     "evalue": "OpenCV(4.7.0) D:\\a\\opencv-python\\opencv-python\\opencv\\modules\\imgproc\\src\\color.cpp:182: error: (-215:Assertion failed) !_src.empty() in function 'cv::cvtColor'\n",
     "output_type": "error",
     "traceback": [
      "\u001b[1;31m---------------------------------------------------------------------------\u001b[0m",
      "\u001b[1;31merror\u001b[0m                                     Traceback (most recent call last)",
      "Cell \u001b[1;32mIn[30], line 30\u001b[0m\n\u001b[0;32m     27\u001b[0m     images_transform(\u001b[39m*\u001b[39mimgs)\n\u001b[0;32m     29\u001b[0m \u001b[39mif\u001b[39;00m \u001b[39m__name__\u001b[39m \u001b[39m==\u001b[39m \u001b[39m'\u001b[39m\u001b[39m__main__\u001b[39m\u001b[39m'\u001b[39m:\n\u001b[1;32m---> 30\u001b[0m     main()\n",
      "Cell \u001b[1;32mIn[30], line 26\u001b[0m, in \u001b[0;36mmain\u001b[1;34m()\u001b[0m\n\u001b[0;32m      1\u001b[0m \u001b[39mdef\u001b[39;00m \u001b[39mmain\u001b[39m():\n\u001b[0;32m      2\u001b[0m     \u001b[39m# img = cv2.imread('images/img1.webp')\u001b[39;00m\n\u001b[0;32m      3\u001b[0m     \u001b[39m# img = cv2.cvtColor(img, cv2.COLOR_BGR2RGB)\u001b[39;00m\n\u001b[1;32m   (...)\u001b[0m\n\u001b[0;32m     23\u001b[0m     \u001b[39m# reflected = reflect(img, 'x y')\u001b[39;00m\n\u001b[0;32m     24\u001b[0m     \u001b[39m# visualize(reflected)\u001b[39;00m\n\u001b[1;32m---> 26\u001b[0m     imgs \u001b[39m=\u001b[39m multiple_image_load()\n\u001b[0;32m     27\u001b[0m     images_transform(\u001b[39m*\u001b[39mimgs)\n",
      "Cell \u001b[1;32mIn[28], line 15\u001b[0m, in \u001b[0;36mmultiple_image_load\u001b[1;34m()\u001b[0m\n\u001b[0;32m     13\u001b[0m     img_paths\u001b[39m.\u001b[39mappend(\u001b[39minput\u001b[39m(\u001b[39mf\u001b[39m\u001b[39m'\u001b[39m\u001b[39mEnter image path \u001b[39m\u001b[39m{\u001b[39;00mi \u001b[39m+\u001b[39m \u001b[39m1\u001b[39m\u001b[39m}\u001b[39;00m\u001b[39m/\u001b[39m\u001b[39m{\u001b[39;00mc\u001b[39m}\u001b[39;00m\u001b[39m : \u001b[39m\u001b[39m'\u001b[39m))\n\u001b[0;32m     14\u001b[0m \u001b[39mfor\u001b[39;00m path \u001b[39min\u001b[39;00m img_paths:\n\u001b[1;32m---> 15\u001b[0m     images\u001b[39m.\u001b[39mappend(cv2\u001b[39m.\u001b[39;49mcvtColor(cv2\u001b[39m.\u001b[39;49mimread(path), cv2\u001b[39m.\u001b[39;49mCOLOR_BGR2RGB))\n\u001b[0;32m     16\u001b[0m \u001b[39mreturn\u001b[39;00m images\n",
      "\u001b[1;31merror\u001b[0m: OpenCV(4.7.0) D:\\a\\opencv-python\\opencv-python\\opencv\\modules\\imgproc\\src\\color.cpp:182: error: (-215:Assertion failed) !_src.empty() in function 'cv::cvtColor'\n"
     ]
    }
   ],
   "source": [
    "def main():\n",
    "    # img = cv2.imread('images/img1.webp')\n",
    "    # img = cv2.cvtColor(img, cv2.COLOR_BGR2RGB)\n",
    "    # visualize(img)\n",
    "    \n",
    "    # # Translate the image 100 pixels to the right and 50 pixels down\n",
    "    # translated = translate(img, 100, 50)\n",
    "    # visualize(translated)\n",
    "    \n",
    "    # # Rotate the image 45 degrees counter-clockwise\n",
    "    # rotated = rotate(img, 45)\n",
    "    # visualize(rotated)\n",
    "    \n",
    "    # # Scale the image by 50%\n",
    "    # scaled = scale(img, 0.5)\n",
    "    # visualize(scaled)\n",
    "    \n",
    "    # # Shear the image by 0.2 horizontally and 0.3 vertically\n",
    "    # sheared = shear(img, 0.2, 0)\n",
    "    # visualize(sheared)\n",
    "    \n",
    "    # # Reflect the image along the x-axis\n",
    "    # reflected = reflect(img, 'x y')\n",
    "    # visualize(reflected)\n",
    "\n",
    "    imgs = multiple_image_load()\n",
    "    images_transform(*imgs)\n",
    "\n",
    "if __name__ == '__main__':\n",
    "    main()"
   ]
  }
 ],
 "metadata": {
  "kernelspec": {
   "display_name": "Python 3",
   "language": "python",
   "name": "python3"
  },
  "language_info": {
   "codemirror_mode": {
    "name": "ipython",
    "version": 3
   },
   "file_extension": ".py",
   "mimetype": "text/x-python",
   "name": "python",
   "nbconvert_exporter": "python",
   "pygments_lexer": "ipython3",
   "version": "3.11.1"
  },
  "orig_nbformat": 4,
  "vscode": {
   "interpreter": {
    "hash": "c261aea317cc0286b3b3261fbba9abdec21eaa57589985bb7a274bf54d6cc0a7"
   }
  }
 },
 "nbformat": 4,
 "nbformat_minor": 2
}
